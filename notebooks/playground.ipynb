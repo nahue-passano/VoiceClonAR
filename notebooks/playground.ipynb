{
 "cells": [
  {
   "cell_type": "code",
   "execution_count": null,
   "metadata": {},
   "outputs": [],
   "source": [
    "%cd ~/tesis/VoiceClonAR"
   ]
  },
  {
   "cell_type": "code",
   "execution_count": null,
   "metadata": {},
   "outputs": [],
   "source": [
    "from pathlib import Path\n",
    "\n",
    "from voiceclonar.quality_assessment.evaluation import SyntheticSpeechQA"
   ]
  },
  {
   "cell_type": "code",
   "execution_count": null,
   "metadata": {},
   "outputs": [],
   "source": [
    "tacotron2_path = Path(\"test/audios/tacotron2\")\n",
    "fastpitch_path = Path(\"test/audios/fastpitch\")\n",
    "fastpitch_rvc_path = Path(\"test/audios/fastpitch_rvc\")\n",
    "\n",
    "evaluator = SyntheticSpeechQA()\n",
    "tacotron2_results = evaluator.evaluate_folder(tacotron2_path, reference_suffix=\"reference\")\n",
    "fastpitch_results = evaluator.evaluate_folder(fastpitch_path, reference_suffix=\"reference\")\n",
    "fastpitch_rvc_results = evaluator.evaluate_folder(fastpitch_rvc_path, reference_suffix=\"reference\")"
   ]
  },
  {
   "cell_type": "code",
   "execution_count": null,
   "metadata": {},
   "outputs": [],
   "source": [
    "display(tacotron2_results)\n",
    "display(fastpitch_results)\n",
    "display(fastpitch_rvc_results)"
   ]
  },
  {
   "cell_type": "code",
   "execution_count": null,
   "metadata": {},
   "outputs": [],
   "source": [
    "import pandas as pd\n",
    "\n",
    "pd.concat([tacotron2_results, fastpitch_results, fastpitch_rvc_results], ignore_index=True)"
   ]
  },
  {
   "cell_type": "code",
   "execution_count": null,
   "metadata": {},
   "outputs": [],
   "source": [
    "import nemo.collections.asr as nemo_asr\n",
    "speaker_model = nemo_asr.models.EncDecSpeakerLabelModel.from_pretrained(\"nvidia/speakerverification_en_titanet_large\")\n"
   ]
  },
  {
   "cell_type": "code",
   "execution_count": null,
   "metadata": {},
   "outputs": [],
   "source": [
    "from voiceclonar.quality_assessment.feature_extraction import TitaNetEmbeddingExtractor\n",
    "\n",
    "arf_00295_fastpitch_rvc = \"test/audios/arf_00295_fastpitch_rvc.wav\"\n",
    "arf_00295_fastpitch = \"test/audios/arf_00295_fastpitch.wav\"\n",
    "arf_00295_reference = \"test/audios/arf_00295_reference.wav\"\n",
    "arm_00610_fastpitch_rvc = \"test/audios/arm_00610_fastpitch_rvc.wav\"\n",
    "arm_00610_reference = \"test/audios/arm_00610_reference.wav\"\n",
    "\n",
    "\n",
    "feature_extractor = TitaNetEmbeddingExtractor()\n",
    "\n",
    "embed_arf_fp_rvc = feature_extractor.process_audio(arf_00295_fastpitch_rvc)\n",
    "embed_arf_fp = feature_extractor.process_audio(arf_00295_fastpitch)\n",
    "embed_arf_ref = feature_extractor.process_audio(arf_00295_reference)\n",
    "embed_arm_fp_rvc = feature_extractor.process_audio(arm_00610_fastpitch_rvc)\n",
    "embed_arm_ref = feature_extractor.process_audio(arm_00610_reference)"
   ]
  },
  {
   "cell_type": "code",
   "execution_count": null,
   "metadata": {},
   "outputs": [],
   "source": [
    "evaluator = SyntheticSpeechQA()\n",
    "evaluator.measure_similarity(embed_arm_ref, embed_arm_fp_rvc)"
   ]
  },
  {
   "cell_type": "code",
   "execution_count": null,
   "metadata": {},
   "outputs": [],
   "source": [
    "from voiceclonar.utils import load_config\n",
    "\n",
    "CFG_PATH = Path(\"voiceclonar/quality_assessment/cfg.yaml\")\n"
   ]
  },
  {
   "cell_type": "code",
   "execution_count": null,
   "metadata": {},
   "outputs": [],
   "source": [
    "cfg = load_config(CFG_PATH)"
   ]
  },
  {
   "cell_type": "code",
   "execution_count": null,
   "metadata": {},
   "outputs": [],
   "source": [
    "arf_00295_fastpitch_rvc = \"test/audios/arf_00295_fastpitch_rvc.wav\"\n",
    "arf_00295_fastpitch = \"test/audios/arf_00295_fastpitch.wav\"\n",
    "arf_00295_reference = \"test/audios/arf_00295_reference.wav\"\n",
    "arm_00610_fastpitch_rvc = \"test/audios/arm_00610_fastpitch_rvc.wav\"\n",
    "arm_00610_reference = \"test/audios/arm_00610_reference.wav\"\n",
    "\n",
    "model_name = \"nisqa\"\n",
    "\n",
    "model_args = cfg.metrics.nisqa.__dict__\n",
    "model_args[\"pretrained_model\"] = f\"{model_args['weights']}/{model_name}.tar\"\n",
    "model_args[\"deg\"] = arf_00295_fastpitch_rvc\n",
    "\n",
    "from voiceclonar.quality_assessment.nisqa.NISQA_model import nisqaModel\n",
    "\n",
    "nisqaModel(model_args).predict()"
   ]
  },
  {
   "cell_type": "code",
   "execution_count": null,
   "metadata": {},
   "outputs": [],
   "source": [
    "from voiceclonar.quality_assessment.nisqa.NISQA_model import nisqaModel\n",
    "\n",
    "df = nisqaModel(model_args).predict()"
   ]
  },
  {
   "cell_type": "code",
   "execution_count": null,
   "metadata": {},
   "outputs": [],
   "source": [
    "df.iloc[0,1]"
   ]
  },
  {
   "cell_type": "markdown",
   "metadata": {},
   "source": [
    "### Frechet distance"
   ]
  },
  {
   "cell_type": "code",
   "execution_count": null,
   "metadata": {},
   "outputs": [],
   "source": [
    "%cd ~/tesis/VoiceClonAR"
   ]
  },
  {
   "cell_type": "code",
   "execution_count": null,
   "metadata": {},
   "outputs": [],
   "source": [
    "from pathlib import Path\n",
    "import torchaudio\n",
    "\n",
    "audios_dict = {\n",
    "\"arf_00295_fastpitch_rvc\": \"test/audios/arf_00295_fastpitch_rvc.wav\",\n",
    "\"arf_00295_fastpitch\":  \"test/audios/arf_00295_fastpitch.wav\",\n",
    "\"arf_00295_reference\":  \"test/audios/arf_00295_reference.wav\",\n",
    "\"arm_00610_fastpitch_rvc\":  \"test/audios/arm_00610_fastpitch_rvc.wav\",\n",
    "\"arm_00610_reference\":  \"test/audios/arm_00610_reference.wav\",\n",
    "}\n",
    "\n",
    "for name, path in audios_dict.items():\n",
    "    signal_array, sample_rate = torchaudio.load(path)\n",
    "    resampler = torchaudio.transforms.Resample(sample_rate, 16_000)\n",
    "    audios_dict[name] = resampler(signal_array).squeeze().numpy()"
   ]
  },
  {
   "cell_type": "code",
   "execution_count": null,
   "metadata": {},
   "outputs": [],
   "source": [
    "from voiceclonar.quality_assessment.frechet_audio_distance import FrechetAudioDistance\n",
    "\n",
    "# to use `vggish`\n",
    "frechet = FrechetAudioDistance(\n",
    "    model_name=\"vggish\",\n",
    "    sample_rate=16000,\n",
    "    use_pca=False, \n",
    "    use_activation=False,\n",
    "    verbose=False\n",
    ")"
   ]
  },
  {
   "cell_type": "code",
   "execution_count": null,
   "metadata": {},
   "outputs": [],
   "source": [
    "frechet.score(\"test/audios/arf_00295_fastpitch/\", \"test/audios/arf_00295_fastpitch_rvc/\")"
   ]
  },
  {
   "cell_type": "code",
   "execution_count": null,
   "metadata": {},
   "outputs": [],
   "source": [
    "frechet.score(\"test/audios/arf_00295_fastpitch/arf_00295_fastpitch.wav\", \"test/audios/arf_00295_fastpitch_rvc/arf_00295_fastpitch_rvc.wav\")"
   ]
  }
 ],
 "metadata": {
  "kernelspec": {
   "display_name": ".venv",
   "language": "python",
   "name": "python3"
  },
  "language_info": {
   "codemirror_mode": {
    "name": "ipython",
    "version": 3
   },
   "file_extension": ".py",
   "mimetype": "text/x-python",
   "name": "python",
   "nbconvert_exporter": "python",
   "pygments_lexer": "ipython3",
   "version": "3.9.16"
  }
 },
 "nbformat": 4,
 "nbformat_minor": 2
}
